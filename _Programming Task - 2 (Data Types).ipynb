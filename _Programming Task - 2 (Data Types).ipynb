{
 "cells": [
  {
   "cell_type": "markdown",
   "id": "5f3db78c",
   "metadata": {},
   "source": [
    "## Task 1: list compriension"
   ]
  },
  {
   "cell_type": "code",
   "execution_count": 1,
   "id": "b5ca0ed8",
   "metadata": {},
   "outputs": [
    {
     "name": "stdout",
     "output_type": "stream",
     "text": [
      "1\n",
      "1\n",
      "1\n",
      "2\n",
      "[[0, 0, 0], [0, 0, 1], [0, 1, 0], [1, 0, 0], [1, 1, 1]]\n"
     ]
    }
   ],
   "source": [
    "x = int(input())\n",
    "y = int(input())\n",
    "z = int(input())\n",
    "n = int(input())\n",
    "    \n",
    "sol = [[i, j, k] \n",
    "for i in range(x + 1) \n",
    "for j in range(y + 1) \n",
    "for k in range(z + 1) \n",
    "if i + j + k != n]\n",
    "print(sol)"
   ]
  },
  {
   "cell_type": "markdown",
   "id": "b0bfc256",
   "metadata": {},
   "source": [
    "#### Task 2:Given the names and grades for each student in a class of  N students, store them in a nested list and print the name(s) of any student(s) having the second lowest grade."
   ]
  },
  {
   "cell_type": "code",
   "execution_count": 1,
   "id": "916b4cf9",
   "metadata": {},
   "outputs": [
    {
     "name": "stdout",
     "output_type": "stream",
     "text": [
      "5\n",
      "harry\n",
      "37.21\n",
      "berry\n",
      "37.21\n",
      "tina\n",
      "37.2\n",
      "Akriti\n",
      "41\n",
      "harsha\n",
      "39\n",
      "berry\n",
      "harry\n"
     ]
    }
   ],
   "source": [
    "if __name__ == '__main__':\n",
    "    scores = []\n",
    "    for _ in range(int(input())):\n",
    "        name = input()\n",
    "        score = float(input()) \n",
    "        scores.append([name, score])\n",
    "    \n",
    "    # Find min score\n",
    "    min_score = min(scores, key = lambda x: x[1])\n",
    "    \n",
    "    # Keep only students with score higher than min\n",
    "    scores = [score for score in scores if score[1] > min_score[1]]\n",
    "    \n",
    "    # Find second min score\n",
    "    second_min_score = min(scores, key = lambda x: x[1])\n",
    "    \n",
    "    # Keep only students with second min score\n",
    "    scores = [score for score in scores if score[1] == second_min_score[1]]\n",
    "    \n",
    "    # Sort students alphabetically\n",
    "    scores.sort(key = lambda x: x[0])\n",
    "    \n",
    "    for score in scores:\n",
    "        print(score[0])"
   ]
  },
  {
   "cell_type": "markdown",
   "id": "05ffcea9",
   "metadata": {},
   "source": [
    "#### task_3:The provided code stub will read in a dictionary containing key/value pairs of name:[marks] for a list of students. Print the average of the marks array for the student name provided, showing 2 places after the decimal."
   ]
  },
  {
   "cell_type": "code",
   "execution_count": 2,
   "id": "dd243868",
   "metadata": {},
   "outputs": [
    {
     "name": "stdout",
     "output_type": "stream",
     "text": [
      "3\n",
      "Krishna 67 68 69\n",
      "Arjun 70 98 63\n",
      "Malika 52 56 60\n",
      "Malika\n",
      "56.00\n"
     ]
    }
   ],
   "source": [
    "if __name__ == '__main__':\n",
    "    n = int(input())\n",
    "    x = [input().split() for i in range(n)]\n",
    "    c = input()\n",
    "    d = {}\n",
    "    for i in range(n):\n",
    "        d[x[i][0]] = list(map(float,x[i][1:]))\n",
    "    print(f'{sum(d[c])/len(d[c]):.2f}')     "
   ]
  },
  {
   "cell_type": "markdown",
   "id": "569eff2c",
   "metadata": {},
   "source": [
    "#### task_4:Consider a list (list = []). You can perform the following commands:\n",
    "\n",
    "#### insert i e: Insert integer e at position i.\n",
    "#### print: Print the list.\n",
    "#### remove e: Delete the first occurrence of integer e.\n",
    "#### append e: Insert integer e at the end of the list.\n",
    "#### sort: Sort the list.\n",
    "#### pop: Pop the last element from the list.\n",
    "#### reverse: Reverse the list.\n",
    "#### Initialize your list and read in the value of n followed by n lines of commands where each command will be of the 7 types listed above. Iterate through each command in order and perform the corresponding operation on your list."
   ]
  },
  {
   "cell_type": "code",
   "execution_count": 3,
   "id": "e1fa9706",
   "metadata": {},
   "outputs": [
    {
     "name": "stdout",
     "output_type": "stream",
     "text": [
      "12\n",
      "insert 0 5\n",
      "insert 1 10\n",
      "insert 0 6\n",
      "print\n",
      "[6, 5, 10]\n",
      "remove 6\n",
      "append 9\n",
      "append 1\n",
      "sort\n",
      "print\n",
      "[1, 5, 9, 10]\n",
      "pop\n",
      "reverse\n",
      "print\\\n"
     ]
    }
   ],
   "source": [
    "if __name__ == '__main__':\n",
    "    N = int(input())\n",
    "    l = []\n",
    "    for i in range(N):\n",
    "        s = list(input().split())\n",
    "        if s[0]=='insert':\n",
    "            l.insert(int(s[1]),int(s[2]))\n",
    "        if s[0]=='remove':\n",
    "            l.remove(int(s[1]))\n",
    "        if s[0]=='append':\n",
    "            l.append(int(s[1]))\n",
    "        if s[0]=='sort':\n",
    "            l.sort()\n",
    "        if s[0]=='pop':\n",
    "            l.pop()\n",
    "        if s[0]=='reverse':\n",
    "            l.reverse()     \n",
    "        if s[0]=='print':\n",
    "            print(l)"
   ]
  },
  {
   "cell_type": "markdown",
   "id": "0031bdd7",
   "metadata": {},
   "source": [
    "#### task_5:Given an integer, , and  space-separated integers as input, create a tuple, , of those  integers. Then compute and print the result of .\n",
    "#### Note: hash() is one of the functions in the __builtins__ module, so it need not be imported."
   ]
  },
  {
   "cell_type": "code",
   "execution_count": 4,
   "id": "d935a1fb",
   "metadata": {},
   "outputs": [
    {
     "name": "stdout",
     "output_type": "stream",
     "text": [
      "2\n",
      "1 2\n",
      "-3550055125485641917\n"
     ]
    }
   ],
   "source": [
    "if __name__ == '__main__':\n",
    "    n = int(input())\n",
    "    integer_list = map(int, input().split())\n",
    "    print(hash(tuple(integer_list)))"
   ]
  },
  {
   "cell_type": "markdown",
   "id": "6c65d5cd",
   "metadata": {},
   "source": [
    "#### Task_6:A set is an unordered collection of elements without duplicate entries.When printed, iterated or converted into a sequence, its elements will appear in an arbitrary order."
   ]
  },
  {
   "cell_type": "code",
   "execution_count": 10,
   "id": "a90d4b16",
   "metadata": {},
   "outputs": [
    {
     "name": "stdout",
     "output_type": "stream",
     "text": [
      "10\n",
      "161 182 161 154 176 170 167 171 170 174\n",
      "169.375\n"
     ]
    }
   ],
   "source": [
    "def average(array):\n",
    "    my_set = set(array)\n",
    "    avg = sum(my_set)/len(my_set)\n",
    "    \n",
    "    return (avg)\n",
    "         \n",
    "if __name__ == '__main__':\n",
    "    n = int(input())\n",
    "    arr = list(map(int, input().split()))\n",
    "    result = average(arr)\n",
    "    print(result)"
   ]
  },
  {
   "cell_type": "markdown",
   "id": "51c03876",
   "metadata": {},
   "source": [
    "### Task_7:There is an array of n integers. There are also 2 disjoint sets, A and B, each containing m integers. You like all the integers in set A and dislike all the integers in set B. Your initial happiness is 0. For each i integer in the array, if i belongs to A, you add 1 to your happiness. If i belongs to B, you add -1 to your happiness. Otherwise, your happiness does not change. Output your final happiness at the end.\n",
    "\n",
    "#### Note: Since A and B are sets, they have no repeated elements. However, the array might contain duplicate elements."
   ]
  },
  {
   "cell_type": "code",
   "execution_count": 11,
   "id": "b3fd4420",
   "metadata": {},
   "outputs": [
    {
     "name": "stdout",
     "output_type": "stream",
     "text": [
      "3 2\n",
      "1 5 3\n",
      "3 1\n",
      "5 7\n",
      "1\n"
     ]
    }
   ],
   "source": [
    "if __name__ == \"__main__\":\n",
    "    happiness = 0\n",
    "    n, m = map(int, input().strip().split(' '))\n",
    "    arr = list(map(int, input().strip().split(' ')))\n",
    "    \n",
    "    good = set(map(int, input().strip().split(' ')))\n",
    "    bad = set(map(int, input().strip().split(' ')))\n",
    "    \n",
    "    for i in arr:\n",
    "        if i in good:\n",
    "            happiness += 1\n",
    "        elif i in bad:\n",
    "            happiness -= 1\n",
    "    print(happiness)"
   ]
  },
  {
   "cell_type": "markdown",
   "id": "7bd4840e",
   "metadata": {},
   "source": [
    "#### TAsk_8:Given 2 sets of integers, M and N, print their symmetric difference in ascending order. The term symmetric difference indicates those values that exist in either M or N but do not exist in both."
   ]
  },
  {
   "cell_type": "code",
   "execution_count": 12,
   "id": "e0d82375",
   "metadata": {},
   "outputs": [
    {
     "name": "stdout",
     "output_type": "stream",
     "text": [
      "4\n",
      "2 4 5 9\n",
      "4\n",
      "2 4 11 12\n",
      "5\n",
      "9\n",
      "11\n",
      "12\n"
     ]
    }
   ],
   "source": [
    "# Enter your code here. Read input from STDIN. Print output to STDOUT\n",
    "if __name__ == \"__main__\":\n",
    "    M = int(input().strip())\n",
    "    set_m = set(map(int, input().strip().split(' ')))\n",
    "    \n",
    "    N = int(input().strip())\n",
    "    set_n = set(map(int, input().strip().split(' ')))\n",
    "    \n",
    "    for j in sorted(set_m ^ set_n):\n",
    "        print(j)"
   ]
  },
  {
   "cell_type": "markdown",
   "id": "41198c40",
   "metadata": {},
   "source": [
    "#### Task_9:Apply your knowledge of the .add() operation to help your friend Rupal.Rupal has a huge collection of country stamps. She decided to count the total number of distinct country stamps in her collection. She asked for your help. You pick the stamps one by one from a stack of N country stamps.Find the total number of distinct country stamps."
   ]
  },
  {
   "cell_type": "code",
   "execution_count": 13,
   "id": "52220bc8",
   "metadata": {},
   "outputs": [
    {
     "name": "stdout",
     "output_type": "stream",
     "text": [
      "7\n",
      "uk\n",
      "china\n",
      "usa\n",
      "france\n",
      "New zealand\n",
      "uk\n",
      "france\n",
      "5\n"
     ]
    }
   ],
   "source": [
    "N = int(input())\n",
    "\n",
    "countries = set()\n",
    "\n",
    "for i in range(N):\n",
    "    countries.add(input())\n",
    "\n",
    "print(len(countries))"
   ]
  },
  {
   "cell_type": "markdown",
   "id": "253b9b43",
   "metadata": {},
   "source": [
    "#### Task_10:he first line contains integer , the number of elements in the set . The second line contains space separated elements of set . All of the elements are non-negative integers, less than or equal to 9. The third line contains integer , the number of commands. The next lines contains either pop, remove and/or discard commands "
   ]
  },
  {
   "cell_type": "code",
   "execution_count": 14,
   "id": "89166131",
   "metadata": {},
   "outputs": [
    {
     "name": "stdout",
     "output_type": "stream",
     "text": [
      "9\n",
      "1 2 3 4 5 6 7 8 9\n",
      "10\n",
      "pop\n",
      "remove 9\n",
      "discard 9\n",
      "discard 8 \n",
      "remove 7\n",
      "pop\n",
      "discard 6\n",
      "remove 5\n",
      "pop\n",
      "discard 5\n",
      "4\n"
     ]
    }
   ],
   "source": [
    "n = int(input())\n",
    "s = set(map(int, input().split()))\n",
    "N = int(input())\n",
    "for i in range(N):\n",
    "    cmd = list(map(str, input().split()))\n",
    "    if cmd[0] == \"pop\":\n",
    "        s.pop()\n",
    "    elif cmd[0] == \"remove\":\n",
    "        try:\n",
    "            s.remove(int(cmd[1]))\n",
    "        except:\n",
    "            continue\n",
    "    elif cmd[0] == \"discard\":\n",
    "        try:\n",
    "            s.discard(int(cmd[1]))\n",
    "        except:\n",
    "            continue\n",
    "print(sum(s))"
   ]
  },
  {
   "cell_type": "markdown",
   "id": "423fc930",
   "metadata": {},
   "source": [
    "#### Task_11:The students of District College have subscriptions to English and French newspapers. Some students have subscribed only to English, some have subscribed to only French and some have subscribed to both newspapers.You are given two sets of student roll numbers. One set has subscribed to the English newspaper, and the other set is  subscribed to the French newspaper. The same student could be in both sets. Your task is to find the total number of students who have subscribed to at least one newspaper."
   ]
  },
  {
   "cell_type": "code",
   "execution_count": 15,
   "id": "a152d901",
   "metadata": {},
   "outputs": [
    {
     "name": "stdout",
     "output_type": "stream",
     "text": [
      "9\n",
      "1 2 3 4 5 6 7 8 9\n",
      "9\n",
      "10 1 2 3 11 21 55 6 8\n",
      "13\n"
     ]
    }
   ],
   "source": [
    "num1 = int(input())\n",
    "setA = set(map(int, input().split()))\n",
    "num2 = int(input())\n",
    "setB = set(map(int, input().split()))\n",
    "\n",
    "print(len(setA.union(setB)))"
   ]
  },
  {
   "cell_type": "markdown",
   "id": "1470873c",
   "metadata": {},
   "source": [
    "#### Task_12:The students of District College have subscriptions to English and French newspapers. Some students have subscribed only to English, some have subscribed only to French, and some have subscribed to both newspapers.You are given two sets of student roll numbers. One set has subscribed to the English newspaper, one set has subscribed to the French newspaper. Your task is to find the total number of students who have subscribed to both newspapers."
   ]
  },
  {
   "cell_type": "code",
   "execution_count": 16,
   "id": "12bdbdc2",
   "metadata": {},
   "outputs": [
    {
     "name": "stdout",
     "output_type": "stream",
     "text": [
      "9\n",
      "1 2 3 4 5 6 7 8 9\n",
      "9\n",
      "10 1 2 3 11 21 55 6 8\n",
      "5\n"
     ]
    }
   ],
   "source": [
    "num1 = int(input())\n",
    "setA = set(map(int, input().split()))\n",
    "num2 = int(input())\n",
    "setB = set(map(int, input().split()))\n",
    "\n",
    "print(len(setA.intersection(setB)))"
   ]
  },
  {
   "cell_type": "markdown",
   "id": "fa223328",
   "metadata": {},
   "source": [
    "#### Task_13:Students of District College have a subscription to English and French newspapers. Some students have subscribed to only the English newspaper, some have subscribed to only the French newspaper, and some have subscribed to both newspapers.You are given two sets of student roll numbers. One set has subscribed to the English newspaper, and one set has subscribed to the French newspaper. Your task is to find the total number of students who have subscribed to only English newspapers."
   ]
  },
  {
   "cell_type": "code",
   "execution_count": 17,
   "id": "68fe1959",
   "metadata": {},
   "outputs": [
    {
     "name": "stdout",
     "output_type": "stream",
     "text": [
      "9\n",
      "1 2 3 4 5 6 7 8 9\n",
      "9\n",
      "10 1 2 3 11 21 55 6 8\n",
      "4\n"
     ]
    }
   ],
   "source": [
    "num1 = int(input())\n",
    "setA = set(map(int, input().split()))\n",
    "num2 = int(input())\n",
    "setB = set(map(int, input().split()))\n",
    "\n",
    "print(len(setA.difference(setB)))"
   ]
  },
  {
   "cell_type": "markdown",
   "id": "65208081",
   "metadata": {},
   "source": [
    "#### Task_14:Students of District College have subscriptions to English and French newspapers. Some students have subscribed to English only, some have subscribed to French only, and some have subscribed to both newspapers.You are given two sets of student roll numbers. One set has subscribed to the English newspaper, and one set has subscribed to the French newspaper. Your task is to find the total number of students who have subscribed to either the English or the French newspaper but not both."
   ]
  },
  {
   "cell_type": "code",
   "execution_count": 18,
   "id": "d2db65dd",
   "metadata": {},
   "outputs": [
    {
     "name": "stdout",
     "output_type": "stream",
     "text": [
      "9\n",
      "1 2 3 4 5 6 7 8 9\n",
      "9\n",
      "10 1 2 3 11 21 55 6 8\n",
      "8\n"
     ]
    }
   ],
   "source": [
    "input()\n",
    "a = set(map(int, input().split()))\n",
    "input()\n",
    "b = set(map(int, input().split()))\n",
    "print(len(a.symmetric_difference(b)))"
   ]
  },
  {
   "cell_type": "markdown",
   "id": "5540149b",
   "metadata": {},
   "source": [
    "#### Task_15:You are given a set A and N number of other sets. These N number of sets have to perform some specific mutation operations on set A.Your task is to execute those operations and print the sum of elements from set A.\n"
   ]
  },
  {
   "cell_type": "code",
   "execution_count": 19,
   "id": "dc30aab7",
   "metadata": {},
   "outputs": [
    {
     "name": "stdout",
     "output_type": "stream",
     "text": [
      "16\n",
      "1 2 3 4 5 6 7 8 9 10 11 12 13 14 24 52\n",
      "4\n",
      "intersection_update 10\n",
      "2 3 5 6 8 9 1 4 7 11\n",
      "update 2\n",
      "55 66\n",
      "symmetric_difference_update 5\n",
      "22 7 35 62 58\n",
      "difference_update 7\n",
      "11 22 35 55 58 62 66\n",
      "38\n"
     ]
    }
   ],
   "source": [
    "len_set = int(input())\n",
    "\n",
    "storage = set(map(int, input().split()))\n",
    "\n",
    "op_len = int(input())\n",
    "\n",
    "for i in range(op_len):\n",
    "    operation = input().split()\n",
    "    if operation[0] == 'intersection_update':\n",
    "        temp_storage = set(map(int, input().split()))\n",
    "        storage.intersection_update(temp_storage)\n",
    "    elif operation[0] == 'update':\n",
    "        temp_storage = set(map(int, input().split()))\n",
    "        storage.update(temp_storage)\n",
    "    elif operation[0] == 'symmetric_difference_update':\n",
    "        temp_storage = set(map(int, input().split()))\n",
    "        storage.symmetric_difference_update(temp_storage)\n",
    "    elif operation[0] == 'difference_update':\n",
    "        temp_storage = set(map(int, input().split()))\n",
    "        storage.difference_update(temp_storage)\n",
    "    else :\n",
    "        assert False\n",
    "\n",
    "print(sum(storage))"
   ]
  },
  {
   "cell_type": "markdown",
   "id": "219edcc5",
   "metadata": {},
   "source": [
    "#### Task_16:Mr. Anant Asankhya is the manager at the INFINITE hotel. The hotel has an infinite amount of rooms.\n",
    "#### One fine day, a finite number of tourists come to stay at the hotel.\n",
    "#### The tourists consist of:→ A Captain. → An unknown group of families consisting of K members per group where K ≠ 1.\n",
    "\n",
    "#### The Captain was given a separate room, and the rest were given one room per group.Mr. Anant has an unordered list of randomly arranged room entries. The list consists of the room numbers for all of the tourists. The room numbers will appearK times per group except for the Captain's room.Mr. Anant needs you to help him find the Captain's room number.The total number of tourists or the total number of groups of families is not known to you.You only know the value of K and the room number list."
   ]
  },
  {
   "cell_type": "code",
   "execution_count": 20,
   "id": "311da056",
   "metadata": {},
   "outputs": [
    {
     "name": "stdout",
     "output_type": "stream",
     "text": [
      "5\n",
      "1 2 3 6 5 4 4 2 5 3 6 1 6 5 3 2 4 1 2 5 1 4 3 6 8 4 3 1 5 6 2\n",
      "8\n"
     ]
    }
   ],
   "source": [
    "N = int(input())\n",
    "\n",
    "storage = map(int, input().split())\n",
    "storage = sorted(storage)\n",
    "\n",
    "for i in range(len(storage)):\n",
    "    if(i != len(storage)-1):\n",
    "        if(storage[i]!=storage[i-1] and storage[i]!=storage[i+1]):\n",
    "            print(storage[i])\n",
    "            break;\n",
    "    else:\n",
    "        print(storage[i])"
   ]
  },
  {
   "cell_type": "markdown",
   "id": "0f442f09",
   "metadata": {},
   "source": [
    "#### task_17:You are given two sets, A and B.\n",
    "#### Your job is to find whether set A is a subset of set B.\n",
    "\n",
    "#### If set A is subset of set B, print True.\n",
    "#### If set A is not a subset of set B, print False."
   ]
  },
  {
   "cell_type": "code",
   "execution_count": 21,
   "id": "5940bb0a",
   "metadata": {},
   "outputs": [
    {
     "name": "stdout",
     "output_type": "stream",
     "text": [
      "3\n",
      "5\n",
      "1 2 3 5 6\n",
      "9\n",
      "9 8 5 6 3 2 1 4 7\n",
      "True\n",
      "1\n",
      "2\n",
      "5\n",
      "3 6 5 4 1\n",
      "False\n",
      "7\n",
      "1 2 3 5 6 8 9\n",
      "3\n",
      "9 8 2\n",
      "False\n"
     ]
    }
   ],
   "source": [
    "# Enter your code here. Read input from STDIN. Print output to STDOUT\n",
    "for i in range(int(input())):\n",
    "    a = int(input())\n",
    "    set_a = set(map(int, input().split()))\n",
    "\n",
    "    b = int(input())\n",
    "    set_b = set(map(int, input().split()))\n",
    "\n",
    "    if len(set_a - set_b) == 0:\n",
    "        print(\"True\")\n",
    "    else:\n",
    "        print(\"False\")"
   ]
  },
  {
   "cell_type": "markdown",
   "id": "4ba6dbc6",
   "metadata": {},
   "source": [
    "#### Task_18:You are given a set A and n other sets.Your job is to find whether set A is a strict superset of each of the N sets.Print True, if A is a strict superset of each of the N sets. Otherwise, print False.A strict superset has at least one element that does not exist in its subset"
   ]
  },
  {
   "cell_type": "code",
   "execution_count": 22,
   "id": "ee232939",
   "metadata": {},
   "outputs": [
    {
     "name": "stdout",
     "output_type": "stream",
     "text": [
      "1 2 3 4 5 6 7 8 9 10 11 12 23 45 84 78\n",
      "1\n",
      "1 2 3 4 5\n",
      "True\n"
     ]
    }
   ],
   "source": [
    "storage = set(input().split())\n",
    "N = int(input())\n",
    "output = True\n",
    "\n",
    "for i in range(N):\n",
    "    storage2 = set(input().split())\n",
    "    if not storage2.issubset(storage):\n",
    "        output = False\n",
    "    if len(storage2) >= len(storage):\n",
    "        output = False\n",
    "\n",
    "print(output)"
   ]
  },
  {
   "cell_type": "markdown",
   "id": "c0d634a2",
   "metadata": {},
   "source": [
    "#### Task_19:Given the participants' score sheet for your University Sports Day, you are required to find the runner-up score. You are given n scores. Store them in a list and find the score of the runner-up."
   ]
  },
  {
   "cell_type": "code",
   "execution_count": 23,
   "id": "6f0ea783",
   "metadata": {},
   "outputs": [
    {
     "name": "stdout",
     "output_type": "stream",
     "text": [
      "5\n",
      "2 3 6 6 5\n",
      "5\n"
     ]
    }
   ],
   "source": [
    "    n = int(input())\n",
    "    arr = map(int, input().split())\n",
    "    l = []\n",
    "    for i in arr:\n",
    "        l.append(i)\n",
    "    mx = max(l)\n",
    "    a = []\n",
    "    while mx in l:    \n",
    "        l.remove(mx)\n",
    "    print(max(l))"
   ]
  },
  {
   "cell_type": "code",
   "execution_count": null,
   "id": "22c0f9db",
   "metadata": {},
   "outputs": [],
   "source": []
  }
 ],
 "metadata": {
  "kernelspec": {
   "display_name": "Python 3 (ipykernel)",
   "language": "python",
   "name": "python3"
  },
  "language_info": {
   "codemirror_mode": {
    "name": "ipython",
    "version": 3
   },
   "file_extension": ".py",
   "mimetype": "text/x-python",
   "name": "python",
   "nbconvert_exporter": "python",
   "pygments_lexer": "ipython3",
   "version": "3.9.12"
  }
 },
 "nbformat": 4,
 "nbformat_minor": 5
}
